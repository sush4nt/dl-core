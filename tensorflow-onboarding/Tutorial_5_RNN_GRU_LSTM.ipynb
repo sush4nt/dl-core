{
  "cells": [
    {
      "cell_type": "markdown",
      "metadata": {
        "id": "ytIJ2uw6tkzK"
      },
      "source": [
        "# 1. Importing libs"
      ]
    },
    {
      "cell_type": "code",
      "execution_count": null,
      "metadata": {
        "id": "auFRQUqStkOY"
      },
      "outputs": [],
      "source": [
        "import os\n",
        "\n",
        "os.environ[\"TF_CPP_MIN_LOG_LEVEL\"] = \"2\"\n",
        "\n",
        "import tensorflow as tf\n",
        "from tensorflow import keras\n",
        "from tensorflow.keras import layers\n",
        "from tensorflow.keras.datasets import mnist"
      ]
    },
    {
      "cell_type": "code",
      "execution_count": null,
      "metadata": {
        "id": "apGClRodtq9M"
      },
      "outputs": [],
      "source": [
        "# physical_devices = tf.config.list_physical_devices(\"GPU\")\n",
        "# tf.config.experimental.set_memory_growth(physical_devices[0], True)"
      ]
    },
    {
      "cell_type": "markdown",
      "metadata": {
        "id": "K1y9zaV-vdoK"
      },
      "source": [
        "# 2. Defining RNNs"
      ]
    },
    {
      "cell_type": "code",
      "execution_count": null,
      "metadata": {
        "colab": {
          "base_uri": "https://localhost:8080/"
        },
        "id": "CXbVGs4Cvcyj",
        "outputId": "a0e6bf96-0b49-40bd-f660-394da15e9423"
      },
      "outputs": [
        {
          "name": "stdout",
          "output_type": "stream",
          "text": [
            "(60000, 28, 28)\n",
            "(60000,)\n",
            "(10000, 28, 28)\n",
            "(10000,)\n"
          ]
        }
      ],
      "source": [
        "(x_train, y_train), (x_test, y_test) = mnist.load_data()\n",
        "x_train = x_train.astype(\"float32\") / 255.0\n",
        "x_test = x_test.astype(\"float32\") / 255.0\n",
        "\n",
        "print(x_train.shape)\n",
        "print(y_train.shape)\n",
        "print(x_test.shape)\n",
        "print(y_test.shape)"
      ]
    },
    {
      "cell_type": "markdown",
      "metadata": {
        "id": "_AlYoWbPzpyu"
      },
      "source": [
        "## Since ours is an image dataset, we unroll one row of the image as a time step input for the RNN Model (a Sequence model)"
      ]
    },
    {
      "cell_type": "markdown",
      "metadata": {
        "id": "BJetkTH_46of"
      },
      "source": [
        "## 2.1 Simple RNN with `relu`"
      ]
    },
    {
      "cell_type": "code",
      "execution_count": null,
      "metadata": {
        "colab": {
          "base_uri": "https://localhost:8080/"
        },
        "id": "8YqAz5ZT425c",
        "outputId": "22088c43-4002-4fe6-8944-8baf7068c5e6"
      },
      "outputs": [
        {
          "name": "stdout",
          "output_type": "stream",
          "text": [
            "Model: \"sequential\"\n",
            "_________________________________________________________________\n",
            " Layer (type)                Output Shape              Param #   \n",
            "=================================================================\n",
            " simple_rnn (SimpleRNN)      (None, None, 512)         276992    \n",
            "                                                                 \n",
            " simple_rnn_1 (SimpleRNN)    (None, 512)               524800    \n",
            "                                                                 \n",
            " dense (Dense)               (None, 10)                5130      \n",
            "                                                                 \n",
            "=================================================================\n",
            "Total params: 806,922\n",
            "Trainable params: 806,922\n",
            "Non-trainable params: 0\n",
            "_________________________________________________________________\n",
            "None\n",
            "Epoch 1/10\n",
            "938/938 - 265s - loss: 0.3002 - accuracy: 0.9072 - 265s/epoch - 282ms/step\n",
            "Epoch 2/10\n",
            "938/938 - 266s - loss: 0.1410 - accuracy: 0.9611 - 266s/epoch - 284ms/step\n",
            "Epoch 3/10\n",
            "938/938 - 259s - loss: 0.1208 - accuracy: 0.9671 - 259s/epoch - 277ms/step\n",
            "Epoch 4/10\n",
            "938/938 - 260s - loss: 0.1009 - accuracy: 0.9725 - 260s/epoch - 277ms/step\n",
            "Epoch 5/10\n",
            "938/938 - 265s - loss: 0.1034 - accuracy: 0.9721 - 265s/epoch - 283ms/step\n",
            "Epoch 6/10\n",
            "938/938 - 266s - loss: 0.0864 - accuracy: 0.9767 - 266s/epoch - 284ms/step\n",
            "Epoch 7/10\n",
            "938/938 - 277s - loss: 0.0837 - accuracy: 0.9779 - 277s/epoch - 295ms/step\n",
            "Epoch 8/10\n",
            "938/938 - 278s - loss: 0.0763 - accuracy: 0.9800 - 278s/epoch - 297ms/step\n",
            "Epoch 9/10\n",
            "938/938 - 279s - loss: 0.0653 - accuracy: 0.9820 - 279s/epoch - 297ms/step\n",
            "Epoch 10/10\n",
            "938/938 - 275s - loss: 0.0722 - accuracy: 0.9801 - 275s/epoch - 293ms/step\n",
            "157/157 - 13s - loss: 0.0732 - accuracy: 0.9828 - 13s/epoch - 85ms/step\n"
          ]
        },
        {
          "data": {
            "text/plain": [
              "[0.07316961884498596, 0.9828000068664551]"
            ]
          },
          "execution_count": 4,
          "metadata": {},
          "output_type": "execute_result"
        }
      ],
      "source": [
        "model = keras.Sequential()\n",
        "model.add(keras.Input(shape=(None, 28)))\n",
        "model.add(layers.SimpleRNN(512, return_sequences=True, activation=\"relu\"))\n",
        "model.add(layers.SimpleRNN(512, activation=\"relu\"))\n",
        "model.add(layers.Dense(10))\n",
        "\n",
        "print(model.summary())\n",
        "model.compile(\n",
        "    loss=keras.losses.SparseCategoricalCrossentropy(from_logits=True),\n",
        "    optimizer=keras.optimizers.Adam(learning_rate=0.001),\n",
        "    metrics=[\"accuracy\"],\n",
        ")\n",
        "\n",
        "model.fit(x_train, y_train, batch_size=64, epochs=10, verbose=2)\n",
        "model.evaluate(x_test, y_test, batch_size=64, verbose=2)"
      ]
    },
    {
      "cell_type": "markdown",
      "metadata": {
        "id": "D3xOjVIZ5RO7"
      },
      "source": [
        "## 2.2 Simple RNn with `tanh`"
      ]
    },
    {
      "cell_type": "code",
      "execution_count": null,
      "metadata": {
        "colab": {
          "base_uri": "https://localhost:8080/"
        },
        "id": "xp8ZRRU45Y-l",
        "outputId": "bc683b74-20b9-4549-ba90-907d6555f6d9"
      },
      "outputs": [
        {
          "name": "stdout",
          "output_type": "stream",
          "text": [
            "Model: \"sequential_1\"\n",
            "_________________________________________________________________\n",
            " Layer (type)                Output Shape              Param #   \n",
            "=================================================================\n",
            " simple_rnn_2 (SimpleRNN)    (None, None, 256)         72960     \n",
            "                                                                 \n",
            " simple_rnn_3 (SimpleRNN)    (None, 256)               131328    \n",
            "                                                                 \n",
            " dense_1 (Dense)             (None, 10)                2570      \n",
            "                                                                 \n",
            "=================================================================\n",
            "Total params: 206,858\n",
            "Trainable params: 206,858\n",
            "Non-trainable params: 0\n",
            "_________________________________________________________________\n",
            "None\n",
            "Epoch 1/10\n",
            "938/938 - 92s - loss: 0.3000 - accuracy: 0.9111 - 92s/epoch - 99ms/step\n",
            "Epoch 2/10\n",
            "938/938 - 91s - loss: 0.1824 - accuracy: 0.9457 - 91s/epoch - 97ms/step\n",
            "Epoch 3/10\n",
            "938/938 - 93s - loss: 0.1582 - accuracy: 0.9532 - 93s/epoch - 99ms/step\n",
            "Epoch 4/10\n",
            "938/938 - 95s - loss: 0.1503 - accuracy: 0.9564 - 95s/epoch - 101ms/step\n",
            "Epoch 5/10\n",
            "938/938 - 93s - loss: 0.1353 - accuracy: 0.9611 - 93s/epoch - 99ms/step\n",
            "Epoch 6/10\n",
            "938/938 - 90s - loss: 0.1402 - accuracy: 0.9601 - 90s/epoch - 96ms/step\n",
            "Epoch 7/10\n",
            "938/938 - 92s - loss: 0.1434 - accuracy: 0.9589 - 92s/epoch - 98ms/step\n",
            "Epoch 8/10\n",
            "938/938 - 92s - loss: 0.1321 - accuracy: 0.9613 - 92s/epoch - 98ms/step\n",
            "Epoch 9/10\n",
            "938/938 - 91s - loss: 0.1273 - accuracy: 0.9637 - 91s/epoch - 97ms/step\n",
            "Epoch 10/10\n",
            "938/938 - 92s - loss: 0.1322 - accuracy: 0.9616 - 92s/epoch - 98ms/step\n",
            "157/157 - 5s - loss: 0.2136 - accuracy: 0.9360 - 5s/epoch - 33ms/step\n"
          ]
        },
        {
          "data": {
            "text/plain": [
              "[0.21362753212451935, 0.9359999895095825]"
            ]
          },
          "execution_count": 5,
          "metadata": {},
          "output_type": "execute_result"
        }
      ],
      "source": [
        "model = keras.Sequential()\n",
        "model.add(keras.Input(shape=(None, 28)))\n",
        "model.add(layers.SimpleRNN(256, return_sequences=True, activation=\"tanh\"))\n",
        "model.add(layers.SimpleRNN(256))\n",
        "model.add(layers.Dense(10))\n",
        "\n",
        "print(model.summary())\n",
        "model.compile(\n",
        "    loss=keras.losses.SparseCategoricalCrossentropy(from_logits=True),\n",
        "    optimizer=keras.optimizers.Adam(learning_rate=0.001),\n",
        "    metrics=[\"accuracy\"],\n",
        ")\n",
        "\n",
        "model.fit(x_train, y_train, batch_size=64, epochs=10, verbose=2)\n",
        "model.evaluate(x_test, y_test, batch_size=64, verbose=2)"
      ]
    },
    {
      "cell_type": "markdown",
      "metadata": {
        "id": "GkrJJf12qQmc"
      },
      "source": [
        "# 3. using GRU"
      ]
    },
    {
      "cell_type": "code",
      "execution_count": null,
      "metadata": {
        "colab": {
          "base_uri": "https://localhost:8080/"
        },
        "id": "c2n84uOupQDb",
        "outputId": "4c059566-a60c-4809-c302-04eb237ee3bf"
      },
      "outputs": [
        {
          "name": "stdout",
          "output_type": "stream",
          "text": [
            "Model: \"sequential_2\"\n",
            "_________________________________________________________________\n",
            " Layer (type)                Output Shape              Param #   \n",
            "=================================================================\n",
            " gru (GRU)                   (None, None, 256)         219648    \n",
            "                                                                 \n",
            " gru_1 (GRU)                 (None, 256)               394752    \n",
            "                                                                 \n",
            " dense_2 (Dense)             (None, 10)                2570      \n",
            "                                                                 \n",
            "=================================================================\n",
            "Total params: 616,970\n",
            "Trainable params: 616,970\n",
            "Non-trainable params: 0\n",
            "_________________________________________________________________\n",
            "None\n",
            "Epoch 1/10\n",
            "938/938 - 244s - loss: 0.2891 - accuracy: 0.9032 - 244s/epoch - 260ms/step\n",
            "Epoch 2/10\n",
            "938/938 - 247s - loss: 0.0701 - accuracy: 0.9784 - 247s/epoch - 264ms/step\n",
            "Epoch 3/10\n",
            "938/938 - 247s - loss: 0.0492 - accuracy: 0.9852 - 247s/epoch - 263ms/step\n",
            "Epoch 4/10\n",
            "938/938 - 245s - loss: 0.0395 - accuracy: 0.9875 - 245s/epoch - 262ms/step\n",
            "Epoch 5/10\n",
            "938/938 - 250s - loss: 0.0311 - accuracy: 0.9902 - 250s/epoch - 266ms/step\n",
            "Epoch 6/10\n",
            "938/938 - 247s - loss: 0.0260 - accuracy: 0.9919 - 247s/epoch - 264ms/step\n",
            "Epoch 7/10\n",
            "938/938 - 244s - loss: 0.0223 - accuracy: 0.9926 - 244s/epoch - 260ms/step\n",
            "Epoch 8/10\n",
            "938/938 - 246s - loss: 0.0228 - accuracy: 0.9927 - 246s/epoch - 262ms/step\n",
            "Epoch 9/10\n",
            "938/938 - 246s - loss: 0.0180 - accuracy: 0.9944 - 246s/epoch - 263ms/step\n",
            "Epoch 10/10\n",
            "938/938 - 247s - loss: 0.0162 - accuracy: 0.9947 - 247s/epoch - 263ms/step\n",
            "157/157 - 12s - loss: 0.0307 - accuracy: 0.9909 - 12s/epoch - 79ms/step\n"
          ]
        },
        {
          "data": {
            "text/plain": [
              "[0.03067385032773018, 0.9908999800682068]"
            ]
          },
          "execution_count": 6,
          "metadata": {},
          "output_type": "execute_result"
        }
      ],
      "source": [
        "model = keras.Sequential()\n",
        "model.add(keras.Input(shape=(None, 28)))\n",
        "model.add(layers.GRU(256, return_sequences=True, activation=\"relu\"))\n",
        "model.add(layers.GRU(256))\n",
        "model.add(layers.Dense(10))\n",
        "\n",
        "print(model.summary())\n",
        "model.compile(\n",
        "    loss=keras.losses.SparseCategoricalCrossentropy(from_logits=True),\n",
        "    optimizer=keras.optimizers.Adam(learning_rate=0.001),\n",
        "    metrics=[\"accuracy\"],\n",
        ")\n",
        "\n",
        "model.fit(x_train, y_train, batch_size=64, epochs=10, verbose=2)\n",
        "model.evaluate(x_test, y_test, batch_size=64, verbose=2)"
      ]
    },
    {
      "cell_type": "markdown",
      "metadata": {
        "id": "L2OnAF7Cqjm9"
      },
      "source": [
        "# 4. Using LSTM"
      ]
    },
    {
      "cell_type": "code",
      "execution_count": null,
      "metadata": {
        "colab": {
          "background_save": true,
          "base_uri": "https://localhost:8080/"
        },
        "id": "bC_f7cTztdX0",
        "outputId": "a2bc198c-4056-429d-94fb-f14ca3523ad3"
      },
      "outputs": [
        {
          "name": "stdout",
          "output_type": "stream",
          "text": [
            "Model: \"sequential_8\"\n",
            "_________________________________________________________________\n",
            " Layer (type)                Output Shape              Param #   \n",
            "=================================================================\n",
            " bidirectional_7 (Bidirectio  (None, None, 512)        583680    \n",
            " nal)                                                            \n",
            "                                                                 \n",
            " bidirectional_8 (Bidirectio  (None, 512)              1574912   \n",
            " nal)                                                            \n",
            "                                                                 \n",
            " dense_8 (Dense)             (None, 10)                5130      \n",
            "                                                                 \n",
            "=================================================================\n",
            "Total params: 2,163,722\n",
            "Trainable params: 2,163,722\n",
            "Non-trainable params: 0\n",
            "_________________________________________________________________\n",
            "None\n",
            "Epoch 1/5\n",
            "469/469 - 632s - loss: 0.3130 - accuracy: 0.8966 - 632s/epoch - 1s/step\n",
            "Epoch 2/5\n",
            "469/469 - 624s - loss: 0.0816 - accuracy: 0.9752 - 624s/epoch - 1s/step\n",
            "Epoch 3/5\n",
            "469/469 - 620s - loss: 0.0581 - accuracy: 0.9824 - 620s/epoch - 1s/step\n",
            "Epoch 4/5\n",
            "469/469 - 617s - loss: 0.0477 - accuracy: 0.9850 - 617s/epoch - 1s/step\n",
            "Epoch 5/5\n",
            "469/469 - 617s - loss: 0.0382 - accuracy: 0.9881 - 617s/epoch - 1s/step\n",
            "79/79 - 31s - loss: 0.0495 - accuracy: 0.9855 - 31s/epoch - 397ms/step\n"
          ]
        },
        {
          "data": {
            "text/plain": [
              "[0.0495150052011013, 0.9854999780654907]"
            ]
          },
          "execution_count": 9,
          "metadata": {},
          "output_type": "execute_result"
        }
      ],
      "source": [
        "# using Bi-directional LSTM layers\n",
        "model = keras.Sequential()\n",
        "model.add(keras.Input(shape=(None, 28)))\n",
        "model.add(\n",
        "    layers.Bidirectional(layers.LSTM(256, return_sequences=True, activation=\"relu\"))\n",
        ")\n",
        "model.add(layers.LSTM(256, name=\"lstm_layer2\"))\n",
        "model.add(layers.Dense(10))\n",
        "\n",
        "model = keras.Sequential()\n",
        "model.add(keras.Input(shape=(None, 28)))\n",
        "model.add(\n",
        "    layers.Bidirectional(layers.LSTM(256, return_sequences=True, activation=\"relu\"))\n",
        ")\n",
        "model.add(layers.Bidirectional(layers.LSTM(256, name=\"lstm_layer2\")))\n",
        "model.add(layers.Dense(10))\n",
        "\n",
        "print(model.summary())\n",
        "model.compile(\n",
        "    loss=keras.losses.SparseCategoricalCrossentropy(from_logits=True),\n",
        "    optimizer=keras.optimizers.Adam(learning_rate=0.001),\n",
        "    metrics=[\"accuracy\"],\n",
        ")\n",
        "\n",
        "model.fit(x_train, y_train, batch_size=128, epochs=5, verbose=2)\n",
        "model.evaluate(x_test, y_test, batch_size=128, verbose=2)"
      ]
    },
    {
      "cell_type": "code",
      "source": [],
      "metadata": {
        "id": "e8a_XOUEqAz1"
      },
      "execution_count": null,
      "outputs": []
    }
  ],
  "metadata": {
    "colab": {
      "provenance": []
    },
    "gpuClass": "standard",
    "kernelspec": {
      "display_name": "Python 3",
      "name": "python3"
    },
    "language_info": {
      "name": "python"
    }
  },
  "nbformat": 4,
  "nbformat_minor": 0
}