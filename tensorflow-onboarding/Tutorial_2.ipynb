{
  "nbformat": 4,
  "nbformat_minor": 0,
  "metadata": {
    "colab": {
      "provenance": []
    },
    "kernelspec": {
      "name": "python3",
      "display_name": "Python 3"
    },
    "language_info": {
      "name": "python"
    },
    "accelerator": "GPU",
    "gpuClass": "standard"
  },
  "cells": [
    {
      "cell_type": "markdown",
      "source": [
        "# 1. Importing libraries"
      ],
      "metadata": {
        "id": "_Q4BGx7AuXh2"
      }
    },
    {
      "cell_type": "code",
      "source": [
        "import os\n",
        "\n",
        "os.environ[\"TF_CPP_MIN_LOG_LEVEL\"] = \"2\"\n",
        "\n",
        "import tensorflow as tf\n",
        "from tensorflow import keras\n",
        "from tensorflow.keras import layers\n",
        "from tensorflow.keras.datasets import mnist"
      ],
      "metadata": {
        "id": "ztPPkQF7iGlU"
      },
      "execution_count": null,
      "outputs": []
    },
    {
      "cell_type": "code",
      "source": [
        "print(tf.__version__)"
      ],
      "metadata": {
        "colab": {
          "base_uri": "https://localhost:8080/"
        },
        "id": "2yOdfmcjjIZm",
        "outputId": "9e6fd7cc-ea2b-4897-e990-4b2e33629022"
      },
      "execution_count": null,
      "outputs": [
        {
          "output_type": "stream",
          "name": "stdout",
          "text": [
            "2.9.2\n"
          ]
        }
      ]
    },
    {
      "cell_type": "code",
      "source": [
        "physical_devices = tf.config.list_physical_devices(\"GPU\")\n",
        "tf.config.experimental.set_memory_growth(physical_devices[0], True)"
      ],
      "metadata": {
        "id": "NeRe-qgyuPCP"
      },
      "execution_count": null,
      "outputs": []
    },
    {
      "cell_type": "markdown",
      "source": [
        "# 2. Sequential API"
      ],
      "metadata": {
        "id": "GPQ7vtP8ucrf"
      }
    },
    {
      "cell_type": "code",
      "source": [
        "(x_train, y_train), (x_test, y_test) = mnist.load_data()\n",
        "x_train = x_train.reshape(-1, 28 * 28).astype(\"float32\") / 255.0\n",
        "x_test = x_test.reshape(-1, 28 * 28).astype(\"float32\") / 255.0"
      ],
      "metadata": {
        "colab": {
          "base_uri": "https://localhost:8080/"
        },
        "id": "7dL4xn12upMN",
        "outputId": "2ed644f5-18fd-48ca-a5ca-cc9999dabdea"
      },
      "execution_count": null,
      "outputs": [
        {
          "output_type": "stream",
          "name": "stdout",
          "text": [
            "Downloading data from https://storage.googleapis.com/tensorflow/tf-keras-datasets/mnist.npz\n",
            "11490434/11490434 [==============================] - 0s 0us/step\n"
          ]
        }
      ]
    },
    {
      "cell_type": "markdown",
      "source": [
        "## 2.1 Option-1"
      ],
      "metadata": {
        "id": "V47Hd39SukKv"
      }
    },
    {
      "cell_type": "code",
      "source": [
        "# Sequential API (Very convenient, not very flexible)\n",
        "model = keras.Sequential(\n",
        "    [\n",
        "        keras.Input(shape=(28 * 28)),\n",
        "        layers.Dense(512, activation=\"relu\"),\n",
        "        layers.Dense(256, activation=\"relu\"),\n",
        "        layers.Dense(10),\n",
        "    ]\n",
        ")\n",
        "print(model.summary())"
      ],
      "metadata": {
        "colab": {
          "base_uri": "https://localhost:8080/"
        },
        "id": "p0JPtI0wuwMl",
        "outputId": "7efd4d9a-9e79-4ffb-9586-fc39e54e3717"
      },
      "execution_count": null,
      "outputs": [
        {
          "output_type": "stream",
          "name": "stdout",
          "text": [
            "Model: \"sequential\"\n",
            "_________________________________________________________________\n",
            " Layer (type)                Output Shape              Param #   \n",
            "=================================================================\n",
            " dense (Dense)               (None, 512)               401920    \n",
            "                                                                 \n",
            " dense_1 (Dense)             (None, 256)               131328    \n",
            "                                                                 \n",
            " dense_2 (Dense)             (None, 10)                2570      \n",
            "                                                                 \n",
            "=================================================================\n",
            "Total params: 535,818\n",
            "Trainable params: 535,818\n",
            "Non-trainable params: 0\n",
            "_________________________________________________________________\n",
            "None\n"
          ]
        }
      ]
    },
    {
      "cell_type": "markdown",
      "source": [
        "## 2.2 Option-2"
      ],
      "metadata": {
        "id": "cyHkKZJou7Td"
      }
    },
    {
      "cell_type": "code",
      "source": [
        "model = keras.Sequential()\n",
        "model.add(keras.Input(shape=(784)))\n",
        "model.add(layers.Dense(512, activation=\"relu\"))\n",
        "model.add(layers.Dense(256, activation=\"relu\", name=\"my_layer\"))\n",
        "model.add(layers.Dense(10))\n",
        "print(model.summary())"
      ],
      "metadata": {
        "colab": {
          "base_uri": "https://localhost:8080/"
        },
        "id": "lZr8SC5su6ZI",
        "outputId": "bee50b27-11e1-4203-e009-887a72ed4b5e"
      },
      "execution_count": null,
      "outputs": [
        {
          "output_type": "stream",
          "name": "stdout",
          "text": [
            "Model: \"sequential_1\"\n",
            "_________________________________________________________________\n",
            " Layer (type)                Output Shape              Param #   \n",
            "=================================================================\n",
            " dense_3 (Dense)             (None, 512)               401920    \n",
            "                                                                 \n",
            " my_layer (Dense)            (None, 256)               131328    \n",
            "                                                                 \n",
            " dense_4 (Dense)             (None, 10)                2570      \n",
            "                                                                 \n",
            "=================================================================\n",
            "Total params: 535,818\n",
            "Trainable params: 535,818\n",
            "Non-trainable params: 0\n",
            "_________________________________________________________________\n",
            "None\n"
          ]
        }
      ]
    },
    {
      "cell_type": "markdown",
      "source": [
        "# 3. Functional API"
      ],
      "metadata": {
        "id": "P5TNby19vFO-"
      }
    },
    {
      "cell_type": "code",
      "source": [
        "# Functional API (A bit more flexible)\n",
        "inputs = keras.Input(shape=(784))\n",
        "x = layers.Dense(512, activation=\"relu\", name=\"first_layer\")(inputs)\n",
        "x = layers.Dense(256, activation=\"relu\", name=\"second_layer\")(x)\n",
        "outputs = layers.Dense(10, activation=\"softmax\")(x)\n",
        "model = keras.Model(inputs=inputs, outputs=outputs)\n",
        "print(model.summary())"
      ],
      "metadata": {
        "colab": {
          "base_uri": "https://localhost:8080/"
        },
        "id": "6dQAiu3NvDl_",
        "outputId": "596ab9e7-f267-4841-f1a1-45c6fb33eb99"
      },
      "execution_count": null,
      "outputs": [
        {
          "output_type": "stream",
          "name": "stdout",
          "text": [
            "Model: \"model\"\n",
            "_________________________________________________________________\n",
            " Layer (type)                Output Shape              Param #   \n",
            "=================================================================\n",
            " input_3 (InputLayer)        [(None, 784)]             0         \n",
            "                                                                 \n",
            " first_layer (Dense)         (None, 512)               401920    \n",
            "                                                                 \n",
            " second_layer (Dense)        (None, 256)               131328    \n",
            "                                                                 \n",
            " dense_5 (Dense)             (None, 10)                2570      \n",
            "                                                                 \n",
            "=================================================================\n",
            "Total params: 535,818\n",
            "Trainable params: 535,818\n",
            "Non-trainable params: 0\n",
            "_________________________________________________________________\n",
            "None\n"
          ]
        }
      ]
    },
    {
      "cell_type": "markdown",
      "source": [
        "# 4. Training"
      ],
      "metadata": {
        "id": "gA6wvfXFvWb1"
      }
    },
    {
      "cell_type": "code",
      "source": [
        "model.compile(\n",
        "    loss=keras.losses.SparseCategoricalCrossentropy(from_logits=False),\n",
        "    optimizer=keras.optimizers.Adam(learning_rate=0.001),\n",
        "    metrics=[\"accuracy\"],\n",
        ")\n",
        "\n",
        "model.fit(x_train, y_train, batch_size=32, epochs=5, verbose=2)\n",
        "model.evaluate(x_test, y_test, batch_size=32, verbose=2)"
      ],
      "metadata": {
        "colab": {
          "base_uri": "https://localhost:8080/"
        },
        "id": "yRr_V2veqbDV",
        "outputId": "620b160c-6349-4330-eb55-fb31c0af0a7d"
      },
      "execution_count": null,
      "outputs": [
        {
          "output_type": "stream",
          "name": "stdout",
          "text": [
            "Epoch 1/5\n",
            "1875/1875 - 6s - loss: 0.1846 - accuracy: 0.9438 - 6s/epoch - 3ms/step\n",
            "Epoch 2/5\n",
            "1875/1875 - 4s - loss: 0.0792 - accuracy: 0.9753 - 4s/epoch - 2ms/step\n",
            "Epoch 3/5\n",
            "1875/1875 - 3s - loss: 0.0560 - accuracy: 0.9820 - 3s/epoch - 2ms/step\n",
            "Epoch 4/5\n",
            "1875/1875 - 4s - loss: 0.0400 - accuracy: 0.9874 - 4s/epoch - 2ms/step\n",
            "Epoch 5/5\n",
            "1875/1875 - 3s - loss: 0.0334 - accuracy: 0.9893 - 3s/epoch - 2ms/step\n",
            "313/313 - 1s - loss: 0.0816 - accuracy: 0.9791 - 691ms/epoch - 2ms/step\n"
          ]
        },
        {
          "output_type": "execute_result",
          "data": {
            "text/plain": [
              "[0.08158241957426071, 0.9790999889373779]"
            ]
          },
          "metadata": {},
          "execution_count": 8
        }
      ]
    },
    {
      "cell_type": "markdown",
      "source": [
        "# 5. Changing a few hyperparameters"
      ],
      "metadata": {
        "id": "OIOci1Xtxxgo"
      }
    },
    {
      "cell_type": "code",
      "source": [
        "model.fit(x_train, y_train, batch_size=64, epochs=5, verbose=2)\n",
        "model.evaluate(x_test, y_test, batch_size=64, verbose=2)"
      ],
      "metadata": {
        "colab": {
          "base_uri": "https://localhost:8080/"
        },
        "id": "8z-u7PuJvaYd",
        "outputId": "b74f3c72-4d47-4684-e91a-b511baa4be5e"
      },
      "execution_count": null,
      "outputs": [
        {
          "output_type": "stream",
          "name": "stdout",
          "text": [
            "Epoch 1/5\n",
            "938/938 - 2s - loss: 0.0126 - accuracy: 0.9955 - 2s/epoch - 2ms/step\n",
            "Epoch 2/5\n",
            "938/938 - 2s - loss: 0.0089 - accuracy: 0.9971 - 2s/epoch - 2ms/step\n",
            "Epoch 3/5\n",
            "938/938 - 2s - loss: 0.0122 - accuracy: 0.9959 - 2s/epoch - 2ms/step\n",
            "Epoch 4/5\n",
            "938/938 - 2s - loss: 0.0127 - accuracy: 0.9958 - 2s/epoch - 2ms/step\n",
            "Epoch 5/5\n",
            "938/938 - 2s - loss: 0.0127 - accuracy: 0.9959 - 2s/epoch - 2ms/step\n",
            "157/157 - 0s - loss: 0.0877 - accuracy: 0.9811 - 306ms/epoch - 2ms/step\n"
          ]
        },
        {
          "output_type": "execute_result",
          "data": {
            "text/plain": [
              "[0.08766359090805054, 0.9811000227928162]"
            ]
          },
          "metadata": {},
          "execution_count": 9
        }
      ]
    },
    {
      "cell_type": "code",
      "source": [
        "model.fit(x_train, y_train, batch_size=32, epochs=10, verbose=2)\n",
        "model.evaluate(x_test, y_test, batch_size=32, verbose=2)"
      ],
      "metadata": {
        "colab": {
          "base_uri": "https://localhost:8080/"
        },
        "id": "YpNMNagYxkGf",
        "outputId": "a21d623f-b2a1-4836-c6dd-01e33b3766c8"
      },
      "execution_count": null,
      "outputs": [
        {
          "output_type": "stream",
          "name": "stdout",
          "text": [
            "Epoch 1/10\n",
            "1875/1875 - 4s - loss: 0.0269 - accuracy: 0.9916 - 4s/epoch - 2ms/step\n",
            "Epoch 2/10\n",
            "1875/1875 - 4s - loss: 0.0180 - accuracy: 0.9944 - 4s/epoch - 2ms/step\n",
            "Epoch 3/10\n",
            "1875/1875 - 4s - loss: 0.0167 - accuracy: 0.9947 - 4s/epoch - 2ms/step\n",
            "Epoch 4/10\n",
            "1875/1875 - 4s - loss: 0.0140 - accuracy: 0.9959 - 4s/epoch - 2ms/step\n",
            "Epoch 5/10\n",
            "1875/1875 - 4s - loss: 0.0135 - accuracy: 0.9960 - 4s/epoch - 2ms/step\n",
            "Epoch 6/10\n",
            "1875/1875 - 4s - loss: 0.0156 - accuracy: 0.9957 - 4s/epoch - 2ms/step\n",
            "Epoch 7/10\n",
            "1875/1875 - 4s - loss: 0.0109 - accuracy: 0.9968 - 4s/epoch - 2ms/step\n",
            "Epoch 8/10\n",
            "1875/1875 - 4s - loss: 0.0136 - accuracy: 0.9962 - 4s/epoch - 2ms/step\n",
            "Epoch 9/10\n",
            "1875/1875 - 4s - loss: 0.0112 - accuracy: 0.9968 - 4s/epoch - 2ms/step\n",
            "Epoch 10/10\n",
            "1875/1875 - 4s - loss: 0.0128 - accuracy: 0.9967 - 4s/epoch - 2ms/step\n",
            "313/313 - 1s - loss: 0.1378 - accuracy: 0.9817 - 581ms/epoch - 2ms/step\n"
          ]
        },
        {
          "output_type": "execute_result",
          "data": {
            "text/plain": [
              "[0.1378454864025116, 0.9817000031471252]"
            ]
          },
          "metadata": {},
          "execution_count": 10
        }
      ]
    },
    {
      "cell_type": "code",
      "source": [
        "model.fit(x_train, y_train, batch_size=128, epochs=5, verbose=2)\n",
        "model.evaluate(x_test, y_test, batch_size=128, verbose=2)"
      ],
      "metadata": {
        "colab": {
          "base_uri": "https://localhost:8080/"
        },
        "id": "effLcsedyPsM",
        "outputId": "0c019baa-66c9-4d09-b1df-9a96cba17f1c"
      },
      "execution_count": null,
      "outputs": [
        {
          "output_type": "stream",
          "name": "stdout",
          "text": [
            "Epoch 1/5\n",
            "469/469 - 1s - loss: 2.0127e-06 - accuracy: 1.0000 - 1s/epoch - 3ms/step\n",
            "Epoch 2/5\n",
            "469/469 - 1s - loss: 1.6419e-06 - accuracy: 1.0000 - 1s/epoch - 2ms/step\n",
            "Epoch 3/5\n",
            "469/469 - 1s - loss: 1.2015e-06 - accuracy: 1.0000 - 1s/epoch - 2ms/step\n",
            "Epoch 4/5\n",
            "469/469 - 1s - loss: 9.8084e-07 - accuracy: 1.0000 - 1s/epoch - 2ms/step\n",
            "Epoch 5/5\n",
            "469/469 - 1s - loss: 8.5404e-07 - accuracy: 1.0000 - 1s/epoch - 2ms/step\n",
            "79/79 - 0s - loss: 0.1495 - accuracy: 0.9850 - 169ms/epoch - 2ms/step\n"
          ]
        },
        {
          "output_type": "execute_result",
          "data": {
            "text/plain": [
              "[0.14951565861701965, 0.9850000143051147]"
            ]
          },
          "metadata": {},
          "execution_count": 12
        }
      ]
    },
    {
      "cell_type": "code",
      "source": [
        "model.fit(x_train, y_train, batch_size=128, epochs=10, verbose=2)\n",
        "model.evaluate(x_test, y_test, batch_size=128, verbose=2)"
      ],
      "metadata": {
        "colab": {
          "base_uri": "https://localhost:8080/"
        },
        "id": "BWZSo2k0yAIV",
        "outputId": "56e3cfce-940e-4062-dc1a-ef1f12b771b3"
      },
      "execution_count": null,
      "outputs": [
        {
          "output_type": "stream",
          "name": "stdout",
          "text": [
            "Epoch 1/10\n",
            "469/469 - 1s - loss: 0.0028 - accuracy: 0.9993 - 1s/epoch - 2ms/step\n",
            "Epoch 2/10\n",
            "469/469 - 1s - loss: 1.8052e-04 - accuracy: 1.0000 - 1s/epoch - 2ms/step\n",
            "Epoch 3/10\n",
            "469/469 - 1s - loss: 6.0403e-05 - accuracy: 1.0000 - 1s/epoch - 3ms/step\n",
            "Epoch 4/10\n",
            "469/469 - 1s - loss: 4.0569e-05 - accuracy: 1.0000 - 1s/epoch - 2ms/step\n",
            "Epoch 5/10\n",
            "469/469 - 1s - loss: 2.9913e-05 - accuracy: 1.0000 - 1s/epoch - 2ms/step\n",
            "Epoch 6/10\n",
            "469/469 - 1s - loss: 1.3320e-05 - accuracy: 1.0000 - 1s/epoch - 3ms/step\n",
            "Epoch 7/10\n",
            "469/469 - 1s - loss: 7.7278e-06 - accuracy: 1.0000 - 1s/epoch - 3ms/step\n",
            "Epoch 8/10\n",
            "469/469 - 1s - loss: 5.0828e-06 - accuracy: 1.0000 - 1s/epoch - 2ms/step\n",
            "Epoch 9/10\n",
            "469/469 - 1s - loss: 3.5341e-06 - accuracy: 1.0000 - 1s/epoch - 2ms/step\n",
            "Epoch 10/10\n",
            "469/469 - 1s - loss: 2.6088e-06 - accuracy: 1.0000 - 1s/epoch - 2ms/step\n",
            "79/79 - 0s - loss: 0.1434 - accuracy: 0.9851 - 164ms/epoch - 2ms/step\n"
          ]
        },
        {
          "output_type": "execute_result",
          "data": {
            "text/plain": [
              "[0.14341481029987335, 0.9850999712944031]"
            ]
          },
          "metadata": {},
          "execution_count": 11
        }
      ]
    },
    {
      "cell_type": "code",
      "source": [
        "model.fit(x_train, y_train, batch_size=16, epochs=10, verbose=2)\n",
        "model.evaluate(x_test, y_test, batch_size=16, verbose=2)"
      ],
      "metadata": {
        "colab": {
          "base_uri": "https://localhost:8080/"
        },
        "id": "ef62YzgsyO-G",
        "outputId": "51074134-749d-4be1-b018-6bf3ec1eefaf"
      },
      "execution_count": null,
      "outputs": [
        {
          "output_type": "stream",
          "name": "stdout",
          "text": [
            "Epoch 1/10\n",
            "3750/3750 - 9s - loss: 0.0366 - accuracy: 0.9920 - 9s/epoch - 2ms/step\n",
            "Epoch 2/10\n",
            "3750/3750 - 9s - loss: 0.0215 - accuracy: 0.9945 - 9s/epoch - 2ms/step\n",
            "Epoch 3/10\n",
            "3750/3750 - 9s - loss: 0.0215 - accuracy: 0.9951 - 9s/epoch - 2ms/step\n",
            "Epoch 4/10\n",
            "3750/3750 - 12s - loss: 0.0196 - accuracy: 0.9953 - 12s/epoch - 3ms/step\n",
            "Epoch 5/10\n",
            "3750/3750 - 9s - loss: 0.0189 - accuracy: 0.9953 - 9s/epoch - 2ms/step\n",
            "Epoch 6/10\n",
            "3750/3750 - 9s - loss: 0.0183 - accuracy: 0.9955 - 9s/epoch - 2ms/step\n",
            "Epoch 7/10\n",
            "3750/3750 - 10s - loss: 0.0191 - accuracy: 0.9958 - 10s/epoch - 3ms/step\n",
            "Epoch 8/10\n",
            "3750/3750 - 9s - loss: 0.0189 - accuracy: 0.9960 - 9s/epoch - 2ms/step\n",
            "Epoch 9/10\n",
            "3750/3750 - 9s - loss: 0.0158 - accuracy: 0.9964 - 9s/epoch - 2ms/step\n",
            "Epoch 10/10\n",
            "3750/3750 - 9s - loss: 0.0185 - accuracy: 0.9962 - 9s/epoch - 2ms/step\n",
            "625/625 - 1s - loss: 0.2079 - accuracy: 0.9797 - 1s/epoch - 2ms/step\n"
          ]
        },
        {
          "output_type": "execute_result",
          "data": {
            "text/plain": [
              "[0.2078699916601181, 0.9797000288963318]"
            ]
          },
          "metadata": {},
          "execution_count": 13
        }
      ]
    },
    {
      "cell_type": "markdown",
      "source": [
        "# 6. Changing Optimization Algorithms"
      ],
      "metadata": {
        "id": "EFbVKjeSynDp"
      }
    },
    {
      "cell_type": "code",
      "source": [
        "print(model.summary())"
      ],
      "metadata": {
        "colab": {
          "base_uri": "https://localhost:8080/"
        },
        "id": "vcYVD3fByZoW",
        "outputId": "8cac7190-d804-47c3-a864-f7e6895cf11c"
      },
      "execution_count": null,
      "outputs": [
        {
          "output_type": "stream",
          "name": "stdout",
          "text": [
            "Model: \"model\"\n",
            "_________________________________________________________________\n",
            " Layer (type)                Output Shape              Param #   \n",
            "=================================================================\n",
            " input_3 (InputLayer)        [(None, 784)]             0         \n",
            "                                                                 \n",
            " first_layer (Dense)         (None, 512)               401920    \n",
            "                                                                 \n",
            " second_layer (Dense)        (None, 256)               131328    \n",
            "                                                                 \n",
            " dense_5 (Dense)             (None, 10)                2570      \n",
            "                                                                 \n",
            "=================================================================\n",
            "Total params: 535,818\n",
            "Trainable params: 535,818\n",
            "Non-trainable params: 0\n",
            "_________________________________________________________________\n",
            "None\n"
          ]
        }
      ]
    },
    {
      "cell_type": "code",
      "source": [
        "# Using Gradient Desc. with Momentum\n",
        "model.compile(\n",
        "    loss=keras.losses.SparseCategoricalCrossentropy(from_logits=False),\n",
        "    optimizer=keras.optimizers.SGD(learning_rate=0.001),\n",
        "    metrics=[\"accuracy\"],\n",
        ")\n",
        "\n",
        "model.fit(x_train, y_train, batch_size=32, epochs=5, verbose=2)\n",
        "model.evaluate(x_test, y_test, batch_size=32, verbose=2)"
      ],
      "metadata": {
        "colab": {
          "base_uri": "https://localhost:8080/"
        },
        "id": "KZfvu_MHyjYA",
        "outputId": "712a1189-f048-4e45-f5f1-c8132d29b5bd"
      },
      "execution_count": null,
      "outputs": [
        {
          "output_type": "stream",
          "name": "stdout",
          "text": [
            "Epoch 1/5\n",
            "1875/1875 - 4s - loss: 0.0164 - accuracy: 0.9965 - 4s/epoch - 2ms/step\n",
            "Epoch 2/5\n",
            "1875/1875 - 3s - loss: 0.0124 - accuracy: 0.9972 - 3s/epoch - 2ms/step\n",
            "Epoch 3/5\n",
            "1875/1875 - 4s - loss: 0.0101 - accuracy: 0.9977 - 4s/epoch - 2ms/step\n",
            "Epoch 4/5\n",
            "1875/1875 - 4s - loss: 0.0085 - accuracy: 0.9981 - 4s/epoch - 2ms/step\n",
            "Epoch 5/5\n",
            "1875/1875 - 4s - loss: 0.0073 - accuracy: 0.9983 - 4s/epoch - 2ms/step\n",
            "313/313 - 1s - loss: 0.1791 - accuracy: 0.9823 - 710ms/epoch - 2ms/step\n"
          ]
        },
        {
          "output_type": "execute_result",
          "data": {
            "text/plain": [
              "[0.1791049689054489, 0.9822999835014343]"
            ]
          },
          "metadata": {},
          "execution_count": 15
        }
      ]
    },
    {
      "cell_type": "code",
      "source": [
        "# Using Gradient Desc. with Momentum\n",
        "model.compile(\n",
        "    loss=keras.losses.SparseCategoricalCrossentropy(from_logits=False),\n",
        "    optimizer=keras.optimizers.RMSprop(learning_rate=0.001),\n",
        "    metrics=[\"accuracy\"],\n",
        ")\n",
        "\n",
        "model.fit(x_train, y_train, batch_size=32, epochs=5, verbose=2)\n",
        "model.evaluate(x_test, y_test, batch_size=32, verbose=2)"
      ],
      "metadata": {
        "colab": {
          "base_uri": "https://localhost:8080/"
        },
        "id": "drEBnibAzN5z",
        "outputId": "f74cf03d-05d4-4c7f-dd31-b73e50374881"
      },
      "execution_count": null,
      "outputs": [
        {
          "output_type": "stream",
          "name": "stdout",
          "text": [
            "Epoch 1/5\n",
            "1875/1875 - 4s - loss: 0.0021 - accuracy: 0.9995 - 4s/epoch - 2ms/step\n",
            "Epoch 2/5\n",
            "1875/1875 - 4s - loss: 1.3128e-04 - accuracy: 0.9999 - 4s/epoch - 2ms/step\n",
            "Epoch 3/5\n",
            "1875/1875 - 4s - loss: 4.8201e-07 - accuracy: 1.0000 - 4s/epoch - 2ms/step\n",
            "Epoch 4/5\n",
            "1875/1875 - 4s - loss: 4.6987e-09 - accuracy: 1.0000 - 4s/epoch - 2ms/step\n",
            "Epoch 5/5\n",
            "1875/1875 - 4s - loss: 4.0730e-10 - accuracy: 1.0000 - 4s/epoch - 2ms/step\n",
            "313/313 - 1s - loss: 0.2243 - accuracy: 0.9860 - 685ms/epoch - 2ms/step\n"
          ]
        },
        {
          "output_type": "execute_result",
          "data": {
            "text/plain": [
              "[0.2243240475654602, 0.9860000014305115]"
            ]
          },
          "metadata": {},
          "execution_count": 17
        }
      ]
    },
    {
      "cell_type": "code",
      "source": [
        "# Using Gradient Desc. with Momentum\n",
        "model.compile(\n",
        "    loss=keras.losses.SparseCategoricalCrossentropy(from_logits=False),\n",
        "    optimizer=keras.optimizers.Adagrad(learning_rate=0.001),\n",
        "    metrics=[\"accuracy\"],\n",
        ")\n",
        "\n",
        "model.fit(x_train, y_train, batch_size=32, epochs=5, verbose=2)\n",
        "model.evaluate(x_test, y_test, batch_size=32, verbose=2)"
      ],
      "metadata": {
        "colab": {
          "base_uri": "https://localhost:8080/"
        },
        "id": "j2hIldzMzel-",
        "outputId": "27ebff79-6c30-4bcc-99aa-7e1f97491578"
      },
      "execution_count": null,
      "outputs": [
        {
          "output_type": "stream",
          "name": "stdout",
          "text": [
            "Epoch 1/5\n",
            "1875/1875 - 4s - loss: 1.9471e-10 - accuracy: 1.0000 - 4s/epoch - 2ms/step\n",
            "Epoch 2/5\n",
            "1875/1875 - 4s - loss: 1.9471e-10 - accuracy: 1.0000 - 4s/epoch - 2ms/step\n",
            "Epoch 3/5\n",
            "1875/1875 - 4s - loss: 1.9471e-10 - accuracy: 1.0000 - 4s/epoch - 2ms/step\n",
            "Epoch 4/5\n",
            "1875/1875 - 3s - loss: 1.9471e-10 - accuracy: 1.0000 - 3s/epoch - 2ms/step\n",
            "Epoch 5/5\n",
            "1875/1875 - 3s - loss: 1.9471e-10 - accuracy: 1.0000 - 3s/epoch - 2ms/step\n",
            "313/313 - 1s - loss: 0.2243 - accuracy: 0.9860 - 694ms/epoch - 2ms/step\n"
          ]
        },
        {
          "output_type": "execute_result",
          "data": {
            "text/plain": [
              "[0.2243240475654602, 0.9860000014305115]"
            ]
          },
          "metadata": {},
          "execution_count": 18
        }
      ]
    },
    {
      "cell_type": "code",
      "source": [],
      "metadata": {
        "id": "QnikecelzvNL"
      },
      "execution_count": null,
      "outputs": []
    }
  ]
}