{
  "nbformat": 4,
  "nbformat_minor": 0,
  "metadata": {
    "colab": {
      "provenance": [],
      "collapsed_sections": [
        "4xzfFg344KV2",
        "jaDNDW3L5auR",
        "L-68_1rl8E7P"
      ]
    },
    "kernelspec": {
      "name": "python3",
      "display_name": "Python 3"
    },
    "language_info": {
      "name": "python"
    },
    "accelerator": "GPU",
    "gpuClass": "standard"
  },
  "cells": [
    {
      "cell_type": "markdown",
      "source": [
        "# 1. Importing libs"
      ],
      "metadata": {
        "id": "4xzfFg344KV2"
      }
    },
    {
      "cell_type": "code",
      "source": [
        "import os\n",
        "\n",
        "os.environ[\"TF_CPP_MIN_LOG_LEVEL\"] = \"2\"\n",
        "\n",
        "import tensorflow as tf\n",
        "from tensorflow import keras\n",
        "from tensorflow.keras import layers\n",
        "from tensorflow.keras.datasets import cifar10"
      ],
      "metadata": {
        "id": "AU76SbBG4HkT"
      },
      "execution_count": null,
      "outputs": []
    },
    {
      "cell_type": "code",
      "source": [
        "physical_devices = tf.config.list_physical_devices(\"GPU\")\n",
        "tf.config.experimental.set_memory_growth(physical_devices[0], True)"
      ],
      "metadata": {
        "id": "cH439kYv4ZPy"
      },
      "execution_count": null,
      "outputs": []
    },
    {
      "cell_type": "markdown",
      "source": [
        "# 2. Defining our CNN"
      ],
      "metadata": {
        "id": "jaDNDW3L5auR"
      }
    },
    {
      "cell_type": "code",
      "source": [
        "# load data\n",
        "(x_train, y_train), (x_test, y_test) = cifar10.load_data()\n",
        "x_train = x_train.astype(\"float32\") / 255.0\n",
        "x_test = x_test.astype(\"float32\") / 255.0\n",
        "\n",
        "print(x_train.shape)\n",
        "print(y_train.shape)\n",
        "print(x_test.shape)\n",
        "print(y_test.shape)"
      ],
      "metadata": {
        "colab": {
          "base_uri": "https://localhost:8080/"
        },
        "id": "R-HpzZ_n5psi",
        "outputId": "faa29a82-73e0-4025-b5cd-32a592f71fdd"
      },
      "execution_count": null,
      "outputs": [
        {
          "output_type": "stream",
          "name": "stdout",
          "text": [
            "Downloading data from https://www.cs.toronto.edu/~kriz/cifar-10-python.tar.gz\n",
            "170498071/170498071 [==============================] - 2s 0us/step\n",
            "(50000, 32, 32, 3)\n",
            "(50000, 1)\n",
            "(10000, 32, 32, 3)\n",
            "(10000, 1)\n"
          ]
        }
      ]
    },
    {
      "cell_type": "markdown",
      "source": [
        "## 2.1 using Sequential API"
      ],
      "metadata": {
        "id": "62frRccv5itz"
      }
    },
    {
      "cell_type": "code",
      "source": [
        "def define_my_model_1(give_summary=None):\n",
        "    model = keras.Sequential(\n",
        "        [\n",
        "            keras.Input(shape=(32, 32, 3)),\n",
        "            #layer 1\n",
        "            layers.Conv2D(32, 3, padding=\"valid\", activation=\"relu\"),\n",
        "            layers.MaxPooling2D(),\n",
        "            #layer 2\n",
        "            layers.Conv2D(64, 3, activation=\"relu\"),\n",
        "            layers.MaxPooling2D(),\n",
        "            # layer 3\n",
        "            layers.Conv2D(128, 3, activation=\"relu\"),\n",
        "            layers.Flatten(),\n",
        "            # layer 4\n",
        "            layers.Dense(64, activation=\"relu\"),\n",
        "            # layer 5\n",
        "            layers.Dense(10),\n",
        "        ]\n",
        "    )\n",
        "    if give_summary:\n",
        "      print('Sequential API Model: ')\n",
        "      print(model.summary())\n",
        "    else:\n",
        "      pass\n",
        "    return model\n",
        "define_my_model_1(give_summary=True)"
      ],
      "metadata": {
        "colab": {
          "base_uri": "https://localhost:8080/"
        },
        "id": "SApM1X-i6CRQ",
        "outputId": "d8597cd6-da55-42c3-d0c7-3d306a7d4c9f"
      },
      "execution_count": null,
      "outputs": [
        {
          "output_type": "stream",
          "name": "stdout",
          "text": [
            "Sequential API Model: \n",
            "Model: \"sequential_1\"\n",
            "_________________________________________________________________\n",
            " Layer (type)                Output Shape              Param #   \n",
            "=================================================================\n",
            " conv2d_6 (Conv2D)           (None, 30, 30, 32)        896       \n",
            "                                                                 \n",
            " max_pooling2d_4 (MaxPooling  (None, 15, 15, 32)       0         \n",
            " 2D)                                                             \n",
            "                                                                 \n",
            " conv2d_7 (Conv2D)           (None, 13, 13, 64)        18496     \n",
            "                                                                 \n",
            " max_pooling2d_5 (MaxPooling  (None, 6, 6, 64)         0         \n",
            " 2D)                                                             \n",
            "                                                                 \n",
            " conv2d_8 (Conv2D)           (None, 4, 4, 128)         73856     \n",
            "                                                                 \n",
            " flatten_2 (Flatten)         (None, 2048)              0         \n",
            "                                                                 \n",
            " dense_4 (Dense)             (None, 64)                131136    \n",
            "                                                                 \n",
            " dense_5 (Dense)             (None, 10)                650       \n",
            "                                                                 \n",
            "=================================================================\n",
            "Total params: 225,034\n",
            "Trainable params: 225,034\n",
            "Non-trainable params: 0\n",
            "_________________________________________________________________\n",
            "None\n"
          ]
        },
        {
          "output_type": "execute_result",
          "data": {
            "text/plain": [
              "<keras.engine.sequential.Sequential at 0x7f4e90146760>"
            ]
          },
          "metadata": {},
          "execution_count": 6
        }
      ]
    },
    {
      "cell_type": "markdown",
      "source": [
        "## 2.2 using Functional API"
      ],
      "metadata": {
        "id": "cXUgtfUV7LuV"
      }
    },
    {
      "cell_type": "code",
      "source": [
        "def define_my_model_2(give_summary=None):\n",
        "    inputs = keras.Input(shape=(32, 32, 3))\n",
        "    x1 = layers.Conv2D(32, 3)(inputs)\n",
        "    x1 = layers.BatchNormalization()(x1)\n",
        "    x1 = keras.activations.relu(x1)\n",
        "    x1 = layers.MaxPooling2D()(x1)\n",
        "    x2 = layers.Conv2D(64, 3)(x1)\n",
        "    x2 = layers.BatchNormalization()(x2)\n",
        "    x2 = keras.activations.relu(x2)\n",
        "    x2 = layers.MaxPooling2D()(x2)\n",
        "    x3 = layers.Conv2D(128, 3)(x2)\n",
        "    x3 = layers.BatchNormalization()(x3)\n",
        "    x3 = keras.activations.relu(x3)\n",
        "    x3 = layers.Flatten()(x3)\n",
        "    x4 = layers.Dense(64, activation=\"relu\")(x3)\n",
        "    outputs = layers.Dense(10)(x4)\n",
        "    model = keras.Model(inputs=inputs, outputs=outputs)\n",
        "    if give_summary:\n",
        "      print('Functional API Model: ')\n",
        "      print(model.summary())\n",
        "    else:\n",
        "      pass\n",
        "    return model\n",
        "define_my_model_2(give_summary=True)"
      ],
      "metadata": {
        "colab": {
          "base_uri": "https://localhost:8080/"
        },
        "id": "hT8XXtN47KqP",
        "outputId": "5af53828-dc15-4abb-b388-be859b13a9ec"
      },
      "execution_count": null,
      "outputs": [
        {
          "output_type": "stream",
          "name": "stdout",
          "text": [
            "Functional API Model: \n",
            "Model: \"model_3\"\n",
            "_________________________________________________________________\n",
            " Layer (type)                Output Shape              Param #   \n",
            "=================================================================\n",
            " input_6 (InputLayer)        [(None, 32, 32, 3)]       0         \n",
            "                                                                 \n",
            " conv2d_15 (Conv2D)          (None, 30, 30, 32)        896       \n",
            "                                                                 \n",
            " batch_normalization_9 (Batc  (None, 30, 30, 32)       128       \n",
            " hNormalization)                                                 \n",
            "                                                                 \n",
            " tf.nn.relu_9 (TFOpLambda)   (None, 30, 30, 32)        0         \n",
            "                                                                 \n",
            " max_pooling2d_10 (MaxPoolin  (None, 15, 15, 32)       0         \n",
            " g2D)                                                            \n",
            "                                                                 \n",
            " conv2d_16 (Conv2D)          (None, 13, 13, 64)        18496     \n",
            "                                                                 \n",
            " batch_normalization_10 (Bat  (None, 13, 13, 64)       256       \n",
            " chNormalization)                                                \n",
            "                                                                 \n",
            " tf.nn.relu_10 (TFOpLambda)  (None, 13, 13, 64)        0         \n",
            "                                                                 \n",
            " max_pooling2d_11 (MaxPoolin  (None, 6, 6, 64)         0         \n",
            " g2D)                                                            \n",
            "                                                                 \n",
            " conv2d_17 (Conv2D)          (None, 4, 4, 128)         73856     \n",
            "                                                                 \n",
            " batch_normalization_11 (Bat  (None, 4, 4, 128)        512       \n",
            " chNormalization)                                                \n",
            "                                                                 \n",
            " tf.nn.relu_11 (TFOpLambda)  (None, 4, 4, 128)         0         \n",
            "                                                                 \n",
            " flatten_5 (Flatten)         (None, 2048)              0         \n",
            "                                                                 \n",
            " dense_10 (Dense)            (None, 64)                131136    \n",
            "                                                                 \n",
            " dense_11 (Dense)            (None, 10)                650       \n",
            "                                                                 \n",
            "=================================================================\n",
            "Total params: 225,930\n",
            "Trainable params: 225,482\n",
            "Non-trainable params: 448\n",
            "_________________________________________________________________\n",
            "None\n"
          ]
        },
        {
          "output_type": "execute_result",
          "data": {
            "text/plain": [
              "<keras.engine.functional.Functional at 0x7f4e346275e0>"
            ]
          },
          "metadata": {},
          "execution_count": 9
        }
      ]
    },
    {
      "cell_type": "markdown",
      "source": [
        "# 3. Training"
      ],
      "metadata": {
        "id": "L-68_1rl8E7P"
      }
    },
    {
      "cell_type": "code",
      "execution_count": null,
      "metadata": {
        "colab": {
          "base_uri": "https://localhost:8080/"
        },
        "id": "Eao8GGT_01I1",
        "outputId": "46e49ce1-2aec-40ad-81bf-4c448b36cfc3"
      },
      "outputs": [
        {
          "output_type": "stream",
          "name": "stderr",
          "text": [
            "/usr/local/lib/python3.8/dist-packages/keras/optimizers/optimizer_v2/adam.py:110: UserWarning: The `lr` argument is deprecated, use `learning_rate` instead.\n",
            "  super(Adam, self).__init__(name, **kwargs)\n"
          ]
        },
        {
          "output_type": "stream",
          "name": "stdout",
          "text": [
            "Epoch 1/10\n",
            "782/782 - 12s - loss: 1.7215 - accuracy: 0.3692 - 12s/epoch - 15ms/step\n",
            "Epoch 2/10\n",
            "782/782 - 3s - loss: 1.3909 - accuracy: 0.4999 - 3s/epoch - 4ms/step\n",
            "Epoch 3/10\n",
            "782/782 - 3s - loss: 1.2546 - accuracy: 0.5548 - 3s/epoch - 4ms/step\n",
            "Epoch 4/10\n",
            "782/782 - 3s - loss: 1.1575 - accuracy: 0.5916 - 3s/epoch - 4ms/step\n",
            "Epoch 5/10\n",
            "782/782 - 3s - loss: 1.0805 - accuracy: 0.6216 - 3s/epoch - 4ms/step\n",
            "Epoch 6/10\n",
            "782/782 - 3s - loss: 1.0160 - accuracy: 0.6448 - 3s/epoch - 4ms/step\n",
            "Epoch 7/10\n",
            "782/782 - 3s - loss: 0.9639 - accuracy: 0.6629 - 3s/epoch - 4ms/step\n",
            "Epoch 8/10\n",
            "782/782 - 3s - loss: 0.9165 - accuracy: 0.6810 - 3s/epoch - 4ms/step\n",
            "Epoch 9/10\n",
            "782/782 - 3s - loss: 0.8728 - accuracy: 0.6968 - 3s/epoch - 4ms/step\n",
            "Epoch 10/10\n",
            "782/782 - 3s - loss: 0.8337 - accuracy: 0.7120 - 3s/epoch - 3ms/step\n",
            "157/157 - 1s - loss: 0.9168 - accuracy: 0.6845 - 554ms/epoch - 4ms/step\n"
          ]
        },
        {
          "output_type": "execute_result",
          "data": {
            "text/plain": [
              "[0.9168391823768616, 0.684499979019165]"
            ]
          },
          "metadata": {},
          "execution_count": 10
        }
      ],
      "source": [
        "model = define_my_model_1()\n",
        "model.compile(\n",
        "    loss=keras.losses.SparseCategoricalCrossentropy(from_logits=True),\n",
        "    optimizer=keras.optimizers.Adam(learning_rate=3e-4),\n",
        "    metrics=[\"accuracy\"],\n",
        ")\n",
        "\n",
        "model.fit(x_train, y_train, batch_size=64, epochs=10, verbose=2)\n",
        "model.evaluate(x_test, y_test, batch_size=64, verbose=2)"
      ]
    },
    {
      "cell_type": "markdown",
      "source": [
        "# 4. Tuning Hyperparameters/ Modifying CNN"
      ],
      "metadata": {
        "id": "XnELgt9U9I9n"
      }
    },
    {
      "cell_type": "code",
      "source": [
        "model = define_my_model_1()\n",
        "model.compile(\n",
        "    loss=keras.losses.SparseCategoricalCrossentropy(from_logits=True),\n",
        "    optimizer=keras.optimizers.Adagrad(learning_rate=3e-4),\n",
        "    metrics=[\"accuracy\"],\n",
        ")\n",
        "\n",
        "model.fit(x_train, y_train, batch_size=128, epochs=20, verbose=2)\n",
        "model.evaluate(x_test, y_test, batch_size=128, verbose=2)"
      ],
      "metadata": {
        "colab": {
          "base_uri": "https://localhost:8080/"
        },
        "id": "P2FQ0kLF87oJ",
        "outputId": "1ced016a-4780-4e9c-9413-686cb4f01470"
      },
      "execution_count": null,
      "outputs": [
        {
          "output_type": "stream",
          "name": "stdout",
          "text": [
            "Epoch 1/20\n",
            "391/391 - 3s - loss: 2.3040 - accuracy: 0.1013 - 3s/epoch - 7ms/step\n",
            "Epoch 2/20\n",
            "391/391 - 2s - loss: 2.3007 - accuracy: 0.1120 - 2s/epoch - 5ms/step\n",
            "Epoch 3/20\n",
            "391/391 - 2s - loss: 2.2985 - accuracy: 0.1270 - 2s/epoch - 5ms/step\n",
            "Epoch 4/20\n",
            "391/391 - 2s - loss: 2.2965 - accuracy: 0.1335 - 2s/epoch - 5ms/step\n",
            "Epoch 5/20\n",
            "391/391 - 2s - loss: 2.2944 - accuracy: 0.1521 - 2s/epoch - 5ms/step\n",
            "Epoch 6/20\n",
            "391/391 - 2s - loss: 2.2918 - accuracy: 0.1687 - 2s/epoch - 5ms/step\n",
            "Epoch 7/20\n",
            "391/391 - 2s - loss: 2.2890 - accuracy: 0.1792 - 2s/epoch - 5ms/step\n",
            "Epoch 8/20\n",
            "391/391 - 2s - loss: 2.2859 - accuracy: 0.1893 - 2s/epoch - 5ms/step\n",
            "Epoch 9/20\n",
            "391/391 - 2s - loss: 2.2824 - accuracy: 0.1928 - 2s/epoch - 5ms/step\n",
            "Epoch 10/20\n",
            "391/391 - 2s - loss: 2.2782 - accuracy: 0.1993 - 2s/epoch - 5ms/step\n",
            "Epoch 11/20\n",
            "391/391 - 2s - loss: 2.2731 - accuracy: 0.2076 - 2s/epoch - 5ms/step\n",
            "Epoch 12/20\n",
            "391/391 - 2s - loss: 2.2670 - accuracy: 0.2189 - 2s/epoch - 5ms/step\n",
            "Epoch 13/20\n",
            "391/391 - 2s - loss: 2.2595 - accuracy: 0.2225 - 2s/epoch - 5ms/step\n",
            "Epoch 14/20\n",
            "391/391 - 2s - loss: 2.2504 - accuracy: 0.2321 - 2s/epoch - 5ms/step\n",
            "Epoch 15/20\n",
            "391/391 - 2s - loss: 2.2395 - accuracy: 0.2389 - 2s/epoch - 5ms/step\n",
            "Epoch 16/20\n",
            "391/391 - 2s - loss: 2.2262 - accuracy: 0.2442 - 2s/epoch - 5ms/step\n",
            "Epoch 17/20\n",
            "391/391 - 2s - loss: 2.2103 - accuracy: 0.2488 - 2s/epoch - 5ms/step\n",
            "Epoch 18/20\n",
            "391/391 - 2s - loss: 2.1917 - accuracy: 0.2539 - 2s/epoch - 5ms/step\n",
            "Epoch 19/20\n",
            "391/391 - 2s - loss: 2.1706 - accuracy: 0.2564 - 2s/epoch - 5ms/step\n",
            "Epoch 20/20\n",
            "391/391 - 2s - loss: 2.1479 - accuracy: 0.2600 - 2s/epoch - 5ms/step\n",
            "79/79 - 0s - loss: 2.1354 - accuracy: 0.2704 - 378ms/epoch - 5ms/step\n"
          ]
        },
        {
          "output_type": "execute_result",
          "data": {
            "text/plain": [
              "[2.135436773300171, 0.2703999876976013]"
            ]
          },
          "metadata": {},
          "execution_count": 11
        }
      ]
    },
    {
      "cell_type": "code",
      "source": [
        "def define_my_model_3(give_summary=None):\n",
        "    \"\"\"\n",
        "      adding more layers\n",
        "    \"\"\"\n",
        "    inputs = keras.Input(shape=(32, 32, 3))\n",
        "    x1 = layers.Conv2D(32, 3)(inputs)\n",
        "    x1 = layers.BatchNormalization()(x1)\n",
        "    x1 = keras.activations.relu(x1)\n",
        "    x1 = layers.MaxPooling2D()(x1)\n",
        "\n",
        "    x2 = layers.Conv2D(64, 3)(x1)\n",
        "    x2 = layers.BatchNormalization()(x2)\n",
        "    x2 = keras.activations.relu(x2)\n",
        "    # x2 = layers.MaxPooling2D()(x2)\n",
        "\n",
        "    x3 = layers.Conv2D(128, 3)(x2)\n",
        "    x3 = layers.BatchNormalization()(x3)\n",
        "    x3 = keras.activations.relu(x3)\n",
        "    #x3 = layers.Flatten()(x3)\n",
        "\n",
        "    x4 = layers.Conv2D(256, 3)(x3)\n",
        "    x4 = layers.BatchNormalization()(x4)\n",
        "    x4 = keras.activations.relu(x4)\n",
        "\n",
        "    x5 = layers.Conv2D(256, 3)(x4)\n",
        "    x5 = layers.BatchNormalization()(x5)\n",
        "    x5 = keras.activations.relu(x5)\n",
        "    x5 = layers.Flatten()(x5)\n",
        "\n",
        "    # x5 = layers.Dense(2048, activation=\"relu\")(x4)\n",
        "    x6 = layers.Dense(256, activation=\"relu\")(x5)\n",
        "    x7 = layers.Dense(128, activation=\"relu\")(x6)\n",
        "    outputs = layers.Dense(10)(x7)\n",
        "    model = keras.Model(inputs=inputs, outputs=outputs)\n",
        "    if give_summary:\n",
        "      print('Functional API Model: ')\n",
        "      print(model.summary())\n",
        "    else:\n",
        "      pass\n",
        "    return model\n",
        "define_my_model_3(give_summary=True)"
      ],
      "metadata": {
        "colab": {
          "base_uri": "https://localhost:8080/"
        },
        "id": "iV7ibUic9j2x",
        "outputId": "8e5cb9a9-f2bd-4ea7-a505-df0da5986f5b"
      },
      "execution_count": null,
      "outputs": [
        {
          "output_type": "stream",
          "name": "stdout",
          "text": [
            "Functional API Model: \n",
            "Model: \"model_9\"\n",
            "_________________________________________________________________\n",
            " Layer (type)                Output Shape              Param #   \n",
            "=================================================================\n",
            " input_15 (InputLayer)       [(None, 32, 32, 3)]       0         \n",
            "                                                                 \n",
            " conv2d_49 (Conv2D)          (None, 30, 30, 32)        896       \n",
            "                                                                 \n",
            " batch_normalization_36 (Bat  (None, 30, 30, 32)       128       \n",
            " chNormalization)                                                \n",
            "                                                                 \n",
            " tf.nn.relu_36 (TFOpLambda)  (None, 30, 30, 32)        0         \n",
            "                                                                 \n",
            " max_pooling2d_28 (MaxPoolin  (None, 15, 15, 32)       0         \n",
            " g2D)                                                            \n",
            "                                                                 \n",
            " conv2d_50 (Conv2D)          (None, 13, 13, 64)        18496     \n",
            "                                                                 \n",
            " batch_normalization_37 (Bat  (None, 13, 13, 64)       256       \n",
            " chNormalization)                                                \n",
            "                                                                 \n",
            " tf.nn.relu_37 (TFOpLambda)  (None, 13, 13, 64)        0         \n",
            "                                                                 \n",
            " conv2d_51 (Conv2D)          (None, 11, 11, 128)       73856     \n",
            "                                                                 \n",
            " batch_normalization_38 (Bat  (None, 11, 11, 128)      512       \n",
            " chNormalization)                                                \n",
            "                                                                 \n",
            " tf.nn.relu_38 (TFOpLambda)  (None, 11, 11, 128)       0         \n",
            "                                                                 \n",
            " conv2d_52 (Conv2D)          (None, 9, 9, 256)         295168    \n",
            "                                                                 \n",
            " batch_normalization_39 (Bat  (None, 9, 9, 256)        1024      \n",
            " chNormalization)                                                \n",
            "                                                                 \n",
            " tf.nn.relu_39 (TFOpLambda)  (None, 9, 9, 256)         0         \n",
            "                                                                 \n",
            " conv2d_53 (Conv2D)          (None, 7, 7, 256)         590080    \n",
            "                                                                 \n",
            " batch_normalization_40 (Bat  (None, 7, 7, 256)        1024      \n",
            " chNormalization)                                                \n",
            "                                                                 \n",
            " tf.nn.relu_40 (TFOpLambda)  (None, 7, 7, 256)         0         \n",
            "                                                                 \n",
            " flatten_13 (Flatten)        (None, 12544)             0         \n",
            "                                                                 \n",
            " dense_36 (Dense)            (None, 256)               3211520   \n",
            "                                                                 \n",
            " dense_37 (Dense)            (None, 128)               32896     \n",
            "                                                                 \n",
            " dense_38 (Dense)            (None, 10)                1290      \n",
            "                                                                 \n",
            "=================================================================\n",
            "Total params: 4,227,146\n",
            "Trainable params: 4,225,674\n",
            "Non-trainable params: 1,472\n",
            "_________________________________________________________________\n",
            "None\n"
          ]
        },
        {
          "output_type": "execute_result",
          "data": {
            "text/plain": [
              "<keras.engine.functional.Functional at 0x7f4e1c04c5b0>"
            ]
          },
          "metadata": {},
          "execution_count": 18
        }
      ]
    },
    {
      "cell_type": "code",
      "source": [
        "model = define_my_model_3()\n",
        "model.compile(\n",
        "    loss=keras.losses.SparseCategoricalCrossentropy(from_logits=True),\n",
        "    optimizer=keras.optimizers.Adagrad(learning_rate=3e-4),\n",
        "    metrics=[\"accuracy\"],\n",
        ")\n",
        "\n",
        "model.fit(x_train, y_train, batch_size=128, epochs=10, verbose=2)\n",
        "model.evaluate(x_test, y_test, batch_size=128, verbose=2)"
      ],
      "metadata": {
        "colab": {
          "base_uri": "https://localhost:8080/"
        },
        "id": "klpcE59z_Cb7",
        "outputId": "7e982cc7-96c8-4383-d7d7-a2e6845b5aa3"
      },
      "execution_count": null,
      "outputs": [
        {
          "output_type": "stream",
          "name": "stdout",
          "text": [
            "Epoch 1/10\n",
            "391/391 - 8s - loss: 2.0475 - accuracy: 0.2544 - 8s/epoch - 20ms/step\n",
            "Epoch 2/10\n",
            "391/391 - 7s - loss: 1.6935 - accuracy: 0.3856 - 7s/epoch - 17ms/step\n",
            "Epoch 3/10\n",
            "391/391 - 7s - loss: 1.5359 - accuracy: 0.4469 - 7s/epoch - 17ms/step\n",
            "Epoch 4/10\n",
            "391/391 - 7s - loss: 1.4322 - accuracy: 0.4890 - 7s/epoch - 17ms/step\n",
            "Epoch 5/10\n",
            "391/391 - 7s - loss: 1.3552 - accuracy: 0.5188 - 7s/epoch - 17ms/step\n",
            "Epoch 6/10\n",
            "391/391 - 7s - loss: 1.2945 - accuracy: 0.5453 - 7s/epoch - 17ms/step\n",
            "Epoch 7/10\n",
            "391/391 - 7s - loss: 1.2422 - accuracy: 0.5654 - 7s/epoch - 17ms/step\n",
            "Epoch 8/10\n",
            "391/391 - 7s - loss: 1.1959 - accuracy: 0.5849 - 7s/epoch - 17ms/step\n",
            "Epoch 9/10\n",
            "391/391 - 7s - loss: 1.1557 - accuracy: 0.6002 - 7s/epoch - 17ms/step\n",
            "Epoch 10/10\n",
            "391/391 - 7s - loss: 1.1191 - accuracy: 0.6121 - 7s/epoch - 17ms/step\n",
            "79/79 - 1s - loss: 1.2611 - accuracy: 0.5471 - 750ms/epoch - 9ms/step\n"
          ]
        },
        {
          "output_type": "execute_result",
          "data": {
            "text/plain": [
              "[1.2611016035079956, 0.5471000075340271]"
            ]
          },
          "metadata": {},
          "execution_count": 19
        }
      ]
    },
    {
      "cell_type": "code",
      "source": [
        "model = define_my_model_3()\n",
        "model.compile(\n",
        "    loss=keras.losses.SparseCategoricalCrossentropy(from_logits=True),\n",
        "    optimizer=keras.optimizers.Adam(learning_rate=3e-4),\n",
        "    metrics=[\"accuracy\"],\n",
        ")\n",
        "\n",
        "model.fit(x_train, y_train, batch_size=128, epochs=10, verbose=2)\n",
        "model.evaluate(x_test, y_test, batch_size=128, verbose=2)"
      ],
      "metadata": {
        "colab": {
          "base_uri": "https://localhost:8080/"
        },
        "id": "ceQn7A2lAAdA",
        "outputId": "c0a97e00-407f-4bae-9924-2308f4ef6461"
      },
      "execution_count": null,
      "outputs": [
        {
          "output_type": "stream",
          "name": "stdout",
          "text": [
            "Epoch 1/10\n",
            "391/391 - 8s - loss: 1.2979 - accuracy: 0.5372 - 8s/epoch - 19ms/step\n",
            "Epoch 2/10\n",
            "391/391 - 7s - loss: 0.8674 - accuracy: 0.6941 - 7s/epoch - 17ms/step\n",
            "Epoch 3/10\n",
            "391/391 - 7s - loss: 0.6679 - accuracy: 0.7675 - 7s/epoch - 17ms/step\n",
            "Epoch 4/10\n",
            "391/391 - 7s - loss: 0.5264 - accuracy: 0.8173 - 7s/epoch - 17ms/step\n",
            "Epoch 5/10\n",
            "391/391 - 7s - loss: 0.3980 - accuracy: 0.8610 - 7s/epoch - 17ms/step\n",
            "Epoch 6/10\n",
            "391/391 - 7s - loss: 0.2875 - accuracy: 0.9005 - 7s/epoch - 17ms/step\n",
            "Epoch 7/10\n",
            "391/391 - 7s - loss: 0.2060 - accuracy: 0.9297 - 7s/epoch - 17ms/step\n",
            "Epoch 8/10\n",
            "391/391 - 7s - loss: 0.1468 - accuracy: 0.9507 - 7s/epoch - 17ms/step\n",
            "Epoch 9/10\n",
            "391/391 - 7s - loss: 0.1193 - accuracy: 0.9592 - 7s/epoch - 17ms/step\n",
            "Epoch 10/10\n",
            "391/391 - 7s - loss: 0.0966 - accuracy: 0.9669 - 7s/epoch - 17ms/step\n",
            "79/79 - 1s - loss: 1.8240 - accuracy: 0.6634 - 735ms/epoch - 9ms/step\n"
          ]
        },
        {
          "output_type": "execute_result",
          "data": {
            "text/plain": [
              "[1.8240489959716797, 0.6633999943733215]"
            ]
          },
          "metadata": {},
          "execution_count": 20
        }
      ]
    },
    {
      "cell_type": "code",
      "source": [
        "model = define_my_model_3()\n",
        "model.compile(\n",
        "    loss=keras.losses.SparseCategoricalCrossentropy(from_logits=True),\n",
        "    optimizer=keras.optimizers.RMSprop(learning_rate=3e-4),\n",
        "    metrics=[\"accuracy\"],\n",
        ")\n",
        "\n",
        "model.fit(x_train, y_train, batch_size=128, epochs=10, verbose=2)\n",
        "model.evaluate(x_test, y_test, batch_size=128, verbose=2)"
      ],
      "metadata": {
        "colab": {
          "base_uri": "https://localhost:8080/"
        },
        "id": "pbcVOluUCYXD",
        "outputId": "787ab8bd-422d-44fb-cd7d-ef076c14f6dc"
      },
      "execution_count": null,
      "outputs": [
        {
          "output_type": "stream",
          "name": "stdout",
          "text": [
            "Epoch 1/10\n",
            "391/391 - 9s - loss: 1.3922 - accuracy: 0.5042 - 9s/epoch - 22ms/step\n",
            "Epoch 2/10\n",
            "391/391 - 7s - loss: 0.9226 - accuracy: 0.6739 - 7s/epoch - 19ms/step\n",
            "Epoch 3/10\n",
            "391/391 - 7s - loss: 0.7289 - accuracy: 0.7453 - 7s/epoch - 18ms/step\n",
            "Epoch 4/10\n",
            "391/391 - 7s - loss: 0.5854 - accuracy: 0.7931 - 7s/epoch - 19ms/step\n",
            "Epoch 5/10\n",
            "391/391 - 7s - loss: 0.4709 - accuracy: 0.8326 - 7s/epoch - 18ms/step\n",
            "Epoch 6/10\n",
            "391/391 - 7s - loss: 0.3730 - accuracy: 0.8679 - 7s/epoch - 19ms/step\n",
            "Epoch 7/10\n",
            "391/391 - 7s - loss: 0.2891 - accuracy: 0.8966 - 7s/epoch - 19ms/step\n",
            "Epoch 8/10\n",
            "391/391 - 7s - loss: 0.2235 - accuracy: 0.9214 - 7s/epoch - 19ms/step\n",
            "Epoch 9/10\n",
            "391/391 - 7s - loss: 0.1772 - accuracy: 0.9378 - 7s/epoch - 19ms/step\n",
            "Epoch 10/10\n",
            "391/391 - 7s - loss: 0.1470 - accuracy: 0.9482 - 7s/epoch - 19ms/step\n",
            "79/79 - 1s - loss: 1.1334 - accuracy: 0.7352 - 732ms/epoch - 9ms/step\n"
          ]
        },
        {
          "output_type": "execute_result",
          "data": {
            "text/plain": [
              "[1.1334350109100342, 0.7351999878883362]"
            ]
          },
          "metadata": {},
          "execution_count": 21
        }
      ]
    },
    {
      "cell_type": "code",
      "source": [
        "# using RMSprop optimizer and new CNN model, we achieved good results\n",
        "model = define_my_model_3()\n",
        "model.compile(\n",
        "    loss=keras.losses.SparseCategoricalCrossentropy(from_logits=True),\n",
        "    optimizer=keras.optimizers.RMSprop(learning_rate=3e-4),\n",
        "    metrics=[\"accuracy\"],\n",
        ")\n",
        "\n",
        "model.fit(x_train, y_train, batch_size=64, epochs=10, verbose=2)\n",
        "model.evaluate(x_test, y_test, batch_size=64, verbose=2)"
      ],
      "metadata": {
        "colab": {
          "base_uri": "https://localhost:8080/"
        },
        "id": "RTD5ZyEWCytv",
        "outputId": "b316f54e-cd1e-45b1-971e-da5a714a7a32"
      },
      "execution_count": null,
      "outputs": [
        {
          "output_type": "stream",
          "name": "stdout",
          "text": [
            "Epoch 1/10\n",
            "782/782 - 11s - loss: 1.3252 - accuracy: 0.5303 - 11s/epoch - 14ms/step\n",
            "Epoch 2/10\n",
            "782/782 - 9s - loss: 0.8926 - accuracy: 0.6873 - 9s/epoch - 11ms/step\n",
            "Epoch 3/10\n",
            "782/782 - 9s - loss: 0.7184 - accuracy: 0.7498 - 9s/epoch - 12ms/step\n",
            "Epoch 4/10\n",
            "782/782 - 9s - loss: 0.6022 - accuracy: 0.7892 - 9s/epoch - 11ms/step\n",
            "Epoch 5/10\n",
            "782/782 - 9s - loss: 0.5047 - accuracy: 0.8205 - 9s/epoch - 11ms/step\n",
            "Epoch 6/10\n",
            "782/782 - 9s - loss: 0.4130 - accuracy: 0.8559 - 9s/epoch - 11ms/step\n",
            "Epoch 7/10\n",
            "782/782 - 9s - loss: 0.3429 - accuracy: 0.8777 - 9s/epoch - 11ms/step\n",
            "Epoch 8/10\n",
            "782/782 - 9s - loss: 0.2765 - accuracy: 0.9034 - 9s/epoch - 11ms/step\n",
            "Epoch 9/10\n",
            "782/782 - 9s - loss: 0.2299 - accuracy: 0.9207 - 9s/epoch - 11ms/step\n",
            "Epoch 10/10\n",
            "782/782 - 9s - loss: 0.1924 - accuracy: 0.9318 - 9s/epoch - 11ms/step\n",
            "157/157 - 1s - loss: 1.1523 - accuracy: 0.7431 - 873ms/epoch - 6ms/step\n"
          ]
        },
        {
          "output_type": "execute_result",
          "data": {
            "text/plain": [
              "[1.1522639989852905, 0.7430999875068665]"
            ]
          },
          "metadata": {},
          "execution_count": 22
        }
      ]
    },
    {
      "cell_type": "code",
      "source": [
        "# checking GPU use, just curious ;)\n",
        "!nvidia-smi"
      ],
      "metadata": {
        "colab": {
          "base_uri": "https://localhost:8080/"
        },
        "id": "rzJwqEvKDM09",
        "outputId": "375b6fb5-02ee-416f-a625-48e054ca15cc"
      },
      "execution_count": null,
      "outputs": [
        {
          "output_type": "stream",
          "name": "stdout",
          "text": [
            "Sat Jan  7 07:10:02 2023       \n",
            "+-----------------------------------------------------------------------------+\n",
            "| NVIDIA-SMI 460.32.03    Driver Version: 460.32.03    CUDA Version: 11.2     |\n",
            "|-------------------------------+----------------------+----------------------+\n",
            "| GPU  Name        Persistence-M| Bus-Id        Disp.A | Volatile Uncorr. ECC |\n",
            "| Fan  Temp  Perf  Pwr:Usage/Cap|         Memory-Usage | GPU-Util  Compute M. |\n",
            "|                               |                      |               MIG M. |\n",
            "|===============================+======================+======================|\n",
            "|   0  Tesla T4            Off  | 00000000:00:04.0 Off |                    0 |\n",
            "| N/A   51C    P0    25W /  70W |   9090MiB / 15109MiB |      0%      Default |\n",
            "|                               |                      |                  N/A |\n",
            "+-------------------------------+----------------------+----------------------+\n",
            "                                                                               \n",
            "+-----------------------------------------------------------------------------+\n",
            "| Processes:                                                                  |\n",
            "|  GPU   GI   CI        PID   Type   Process name                  GPU Memory |\n",
            "|        ID   ID                                                   Usage      |\n",
            "|=============================================================================|\n",
            "+-----------------------------------------------------------------------------+\n"
          ]
        }
      ]
    },
    {
      "cell_type": "markdown",
      "source": [
        "You can also set the strides of the convolution, simply by adding the argument strides, for example: layers.Conv2D(32, 3, strides=(1, 1), padding='valid') and set what you want the strides to be. There are also a bunch more arguments that can be read in the docs: https://www.tensorflow.org/api_docs/python/tf/keras/layers/Conv2D.\n"
      ],
      "metadata": {
        "id": "-riyGXVAFPQY"
      }
    },
    {
      "cell_type": "code",
      "source": [],
      "metadata": {
        "id": "5ajCiBAcEJ4K"
      },
      "execution_count": null,
      "outputs": []
    }
  ]
}