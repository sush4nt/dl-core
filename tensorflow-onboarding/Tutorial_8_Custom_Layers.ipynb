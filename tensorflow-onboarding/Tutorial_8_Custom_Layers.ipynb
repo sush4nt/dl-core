{
  "nbformat": 4,
  "nbformat_minor": 0,
  "metadata": {
    "colab": {
      "provenance": []
    },
    "kernelspec": {
      "name": "python3",
      "display_name": "Python 3"
    },
    "language_info": {
      "name": "python"
    }
  },
  "cells": [
    {
      "cell_type": "markdown",
      "source": [
        "# 1. Importing Libs & Data"
      ],
      "metadata": {
        "id": "IuekWOh875h8"
      }
    },
    {
      "cell_type": "code",
      "execution_count": null,
      "metadata": {
        "colab": {
          "base_uri": "https://localhost:8080/"
        },
        "id": "FwKYqP-lW5Q4",
        "outputId": "848c854f-70b4-4ceb-b8ba-044429d7587f"
      },
      "outputs": [
        {
          "output_type": "stream",
          "name": "stdout",
          "text": [
            "Downloading data from https://storage.googleapis.com/tensorflow/tf-keras-datasets/mnist.npz\n",
            "11490434/11490434 [==============================] - 0s 0us/step\n"
          ]
        }
      ],
      "source": [
        "import os\n",
        "\n",
        "os.environ[\"TF_CPP_MIN_LOG_LEVEL\"] = \"2\"\n",
        "import tensorflow as tf\n",
        "from tensorflow import keras\n",
        "from tensorflow.keras import layers\n",
        "from tensorflow.keras.datasets import mnist\n",
        "\n",
        "# To Avoid GPU errors\n",
        "# physical_devices = tf.config.list_physical_devices(\"GPU\")\n",
        "# tf.config.experimental.set_memory_growth(physical_devices[0], True)\n",
        "\n",
        "(x_train, y_train), (x_test, y_test) = mnist.load_data()\n",
        "x_train = x_train.reshape(-1, 28 * 28).astype(\"float32\") / 255.0\n",
        "x_test = x_test.reshape(-1, 28 * 28).astype(\"float32\") / 255.0"
      ]
    },
    {
      "cell_type": "markdown",
      "source": [
        "# 2. Training using a custom class model"
      ],
      "metadata": {
        "id": "1VYM9AUo8yw0"
      }
    },
    {
      "cell_type": "code",
      "source": [
        "class MyModel(keras.Model):  # model.fit, model.evalute, model.predict\n",
        "    def __init__(self, num_classes=10):\n",
        "        super(MyModel, self).__init__()\n",
        "        self.dense1 = layers.Dense(64)\n",
        "        self.dense2 = layers.Dense(num_classes)\n",
        "\n",
        "    def call(self, input_tensor):\n",
        "        x = tf.nn.relu(self.dense1(input_tensor))\n",
        "        return self.dense2(x)\n",
        "\n",
        "\n",
        "model = MyModel()\n",
        "model.compile(\n",
        "    loss=keras.losses.SparseCategoricalCrossentropy(from_logits=True),\n",
        "    optimizer=keras.optimizers.Adam(),\n",
        "    metrics=[\"accuracy\"],\n",
        ")\n",
        "\n",
        "model.fit(x_train, y_train, batch_size=32, epochs=2, verbose=2)\n",
        "model.evaluate(x_test, y_test, batch_size=32, verbose=2)"
      ],
      "metadata": {
        "colab": {
          "base_uri": "https://localhost:8080/"
        },
        "id": "BNmubvbD8Az9",
        "outputId": "c22b06c2-5d24-49a2-f3a2-1295f02f7dca"
      },
      "execution_count": null,
      "outputs": [
        {
          "output_type": "stream",
          "name": "stdout",
          "text": [
            "Epoch 1/2\n",
            "1875/1875 - 4s - loss: 0.3011 - accuracy: 0.9154 - 4s/epoch - 2ms/step\n",
            "Epoch 2/2\n",
            "1875/1875 - 3s - loss: 0.1447 - accuracy: 0.9585 - 3s/epoch - 2ms/step\n",
            "313/313 - 1s - loss: 0.1245 - accuracy: 0.9615 - 646ms/epoch - 2ms/step\n"
          ]
        },
        {
          "output_type": "execute_result",
          "data": {
            "text/plain": [
              "[0.12451689690351486, 0.9614999890327454]"
            ]
          },
          "metadata": {},
          "execution_count": 3
        }
      ]
    },
    {
      "cell_type": "markdown",
      "source": [
        "# 3. Training using custom layers"
      ],
      "metadata": {
        "id": "FYtnmEPl9tpE"
      }
    },
    {
      "cell_type": "code",
      "source": [
        "class Dense(layers.Layer):\n",
        "    def __init__(self, units, input_dim):\n",
        "        super(Dense, self).__init__()\n",
        "        self.w = self.add_weight(\n",
        "            name=\"w\",\n",
        "            shape=(input_dim, units),\n",
        "            initializer=\"random_normal\",\n",
        "            trainable=True,\n",
        "        )\n",
        "        self.b = self.add_weight(\n",
        "            name=\"b\", shape=(units,), initializer=\"zeros\", trainable=True\n",
        "        )\n",
        "\n",
        "    def call(self, inputs):\n",
        "        return tf.matmul(inputs, self.w) + self.b\n",
        "\n",
        "class MyModel(keras.Model):  # model.fit, model.evalute, model.predict\n",
        "    def __init__(self, num_classes=10):\n",
        "        super(MyModel, self).__init__()\n",
        "        self.dense1 = Dense(64, 784)\n",
        "        self.dense2 = Dense(num_classes, 64)\n",
        "\n",
        "    def call(self, input_tensor):\n",
        "        x = tf.nn.relu(self.dense1(input_tensor))\n",
        "        return self.dense2(x)\n",
        "\n",
        "model = MyModel()\n",
        "model.compile(\n",
        "    loss=keras.losses.SparseCategoricalCrossentropy(from_logits=True),\n",
        "    optimizer=keras.optimizers.Adam(),\n",
        "    metrics=[\"accuracy\"],\n",
        ")\n",
        "\n",
        "model.fit(x_train, y_train, batch_size=32, epochs=2, verbose=2)\n",
        "model.evaluate(x_test, y_test, batch_size=32, verbose=2)"
      ],
      "metadata": {
        "colab": {
          "base_uri": "https://localhost:8080/"
        },
        "id": "oDBCO-ve9eCF",
        "outputId": "8cd003b4-253a-4958-8586-47665161db10"
      },
      "execution_count": null,
      "outputs": [
        {
          "output_type": "stream",
          "name": "stdout",
          "text": [
            "Epoch 1/2\n",
            "1875/1875 - 4s - loss: 0.3434 - accuracy: 0.9065 - 4s/epoch - 2ms/step\n",
            "Epoch 2/2\n",
            "1875/1875 - 3s - loss: 0.1647 - accuracy: 0.9518 - 3s/epoch - 2ms/step\n",
            "313/313 - 0s - loss: 0.1347 - accuracy: 0.9596 - 493ms/epoch - 2ms/step\n"
          ]
        },
        {
          "output_type": "execute_result",
          "data": {
            "text/plain": [
              "[0.13468413054943085, 0.9595999717712402]"
            ]
          },
          "metadata": {},
          "execution_count": 4
        }
      ]
    },
    {
      "cell_type": "markdown",
      "source": [
        "# 4. Modifying the custom layers slightly\n",
        "\n",
        "\n",
        "\n",
        "1.   Adding random normal initializer for Bias weights\n",
        "2.   Removing the dependency to specify input dimensions when creating a Dense layer using `build` method\n",
        "3.   Adding a custom `ReLU` layer\n",
        "\n"
      ],
      "metadata": {
        "id": "y_MGmTem_Ph-"
      }
    },
    {
      "cell_type": "code",
      "source": [
        "class Dense(layers.Layer):\n",
        "    def __init__(self, units):\n",
        "        super(Dense, self).__init__()\n",
        "        self.units = units\n",
        "\n",
        "    def build(self, input_shape):\n",
        "        self.w = self.add_weight(\n",
        "            name=\"w\",\n",
        "            shape=(input_shape[-1], self.units),\n",
        "            initializer=\"random_normal\",\n",
        "            trainable=True,\n",
        "        )\n",
        "        self.b = self.add_weight(\n",
        "            name=\"b\", shape=(self.units,), initializer=\"random_normal\", trainable=True,\n",
        "        )\n",
        "\n",
        "    def call(self, inputs):\n",
        "        return tf.matmul(inputs, self.w) + self.b\n",
        "\n",
        "class MyReLU(layers.Layer):\n",
        "    def __init__(self):\n",
        "        super(MyReLU, self).__init__()\n",
        "\n",
        "    def call(self, x):\n",
        "        return tf.math.maximum(x, 0)\n",
        "\n",
        "class MyModel(keras.Model):  # model.fit, model.evalute, model.predict\n",
        "    def __init__(self, num_classes=10):\n",
        "        super(MyModel, self).__init__()\n",
        "        self.dense1 = Dense(64)\n",
        "        self.dense2 = Dense(num_classes)\n",
        "        self.relu = MyReLU()\n",
        "\n",
        "    def call(self, x):\n",
        "        x = self.relu(self.dense1(x))\n",
        "        return self.dense2(x)\n",
        "\n",
        "model = MyModel()\n",
        "model.compile(\n",
        "    loss=keras.losses.SparseCategoricalCrossentropy(from_logits=True),\n",
        "    optimizer=keras.optimizers.Adam(),\n",
        "    metrics=[\"accuracy\"],\n",
        ")\n",
        "\n",
        "model.fit(x_train, y_train, batch_size=32, epochs=2, verbose=2)\n",
        "model.evaluate(x_test, y_test, batch_size=32, verbose=2)"
      ],
      "metadata": {
        "colab": {
          "base_uri": "https://localhost:8080/"
        },
        "id": "4VC7yk6y_J8F",
        "outputId": "e1aefd1a-ba8d-49d9-abfc-4b4584586131"
      },
      "execution_count": null,
      "outputs": [
        {
          "output_type": "stream",
          "name": "stdout",
          "text": [
            "Epoch 1/2\n",
            "1875/1875 - 4s - loss: 0.3389 - accuracy: 0.9078 - 4s/epoch - 2ms/step\n",
            "Epoch 2/2\n",
            "1875/1875 - 3s - loss: 0.1556 - accuracy: 0.9558 - 3s/epoch - 2ms/step\n",
            "313/313 - 1s - loss: 0.1324 - accuracy: 0.9604 - 514ms/epoch - 2ms/step\n"
          ]
        },
        {
          "output_type": "execute_result",
          "data": {
            "text/plain": [
              "[0.13240906596183777, 0.9603999853134155]"
            ]
          },
          "metadata": {},
          "execution_count": 6
        }
      ]
    },
    {
      "cell_type": "code",
      "source": [],
      "metadata": {
        "id": "2xkwyFPLBAPH"
      },
      "execution_count": null,
      "outputs": []
    }
  ]
}